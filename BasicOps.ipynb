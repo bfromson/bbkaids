{
 "cells": [
  {
   "cell_type": "markdown",
   "id": "76a07098-2bc1-47dd-aef7-33366bd494d8",
   "metadata": {},
   "source": [
    "# Jupyter Notebooks Intro"
   ]
  },
  {
   "cell_type": "markdown",
   "id": "e6ac28b0-858e-42d9-ae55-bab88155d7ed",
   "metadata": {},
   "source": [
    "Jupyter notebook provides easy interactive environment for running python code\n",
    "\n",
    "Let's try a simple equation"
   ]
  },
  {
   "cell_type": "code",
   "execution_count": 2,
   "id": "9d334f36-d805-4caf-9002-d600e2cf0f14",
   "metadata": {},
   "outputs": [
    {
     "data": {
      "text/plain": [
       "11"
      ]
     },
     "execution_count": 2,
     "metadata": {},
     "output_type": "execute_result"
    }
   ],
   "source": [
    "a = 5\n",
    "b = 6\n",
    "c = a + b\n",
    "c"
   ]
  },
  {
   "cell_type": "code",
   "execution_count": 3,
   "id": "bb85b3ce-ce8a-42cd-bf55-3842dd45aa33",
   "metadata": {},
   "outputs": [
    {
     "data": {
      "text/plain": [
       "62.5"
      ]
     },
     "execution_count": 3,
     "metadata": {},
     "output_type": "execute_result"
    }
   ],
   "source": [
    "km = 100\n",
    "miles = km / 1.6\n",
    "miles"
   ]
  },
  {
   "cell_type": "markdown",
   "id": "9756e03d-5dfc-4a1a-8c2f-0beb6917211a",
   "metadata": {},
   "source": [
    "Now set it up as a simple function"
   ]
  },
  {
   "cell_type": "code",
   "execution_count": 4,
   "id": "135b59b6-b100-4054-b613-88be33628956",
   "metadata": {},
   "outputs": [
    {
     "data": {
      "text/plain": [
       "62.5"
      ]
     },
     "execution_count": 4,
     "metadata": {},
     "output_type": "execute_result"
    }
   ],
   "source": [
    "def milesfromkm(km):\n",
    "    return km/1.6\n",
    "\n",
    "milesfromkm(100)"
   ]
  },
  {
   "cell_type": "markdown",
   "id": "31fe5d14-3d47-49b5-9eb9-b981b7489efe",
   "metadata": {},
   "source": [
    "list is enclosed in [ ]"
   ]
  },
  {
   "cell_type": "code",
   "execution_count": 5,
   "id": "b5485de9-b99f-47c1-8bb5-d831706c3255",
   "metadata": {},
   "outputs": [
    {
     "data": {
      "text/plain": [
       "[1, 2, 3, 4, 5, 6, 7]"
      ]
     },
     "execution_count": 5,
     "metadata": {},
     "output_type": "execute_result"
    }
   ],
   "source": [
    "l1 = [1,2,3,4,5,6,7]\n",
    "l1"
   ]
  },
  {
   "cell_type": "markdown",
   "id": "df46121b-23a9-49df-98ec-0c4a5cf44749",
   "metadata": {},
   "source": [
    "access to list elements - zero indexed"
   ]
  },
  {
   "cell_type": "code",
   "execution_count": 6,
   "id": "c7b09298-e275-43df-9e95-cfe19e490bd9",
   "metadata": {},
   "outputs": [
    {
     "name": "stdout",
     "output_type": "stream",
     "text": [
      "2\n",
      "3\n",
      "7\n",
      "[3, 4]\n",
      "[5, 6, 7]\n",
      "[1, 2, 3]\n"
     ]
    }
   ],
   "source": [
    "print(l1[1])\n",
    "print(l1[2])\n",
    "print(l1[-1])\n",
    "print(l1[2:4])\n",
    "print(l1[4:])\n",
    "print(l1[:3])"
   ]
  },
  {
   "cell_type": "code",
   "execution_count": 7,
   "id": "2ce1e883-5213-44d5-8427-6b4bb0935885",
   "metadata": {},
   "outputs": [
    {
     "name": "stdout",
     "output_type": "stream",
     "text": [
      "7\n"
     ]
    }
   ],
   "source": [
    "print(len(l1))"
   ]
  },
  {
   "cell_type": "markdown",
   "id": "e1e04f33-4e27-482d-947f-58e6e49cd922",
   "metadata": {},
   "source": [
    "simple code loop"
   ]
  },
  {
   "cell_type": "code",
   "execution_count": 8,
   "id": "52ff2aaf-21bd-486e-9e46-7053757f3845",
   "metadata": {},
   "outputs": [
    {
     "name": "stdout",
     "output_type": "stream",
     "text": [
      "1\n",
      "2\n",
      "3\n",
      "4\n",
      "5\n",
      "6\n",
      "7\n"
     ]
    }
   ],
   "source": [
    "for i in range(len(l1)):\n",
    "    print(l1[i])"
   ]
  },
  {
   "cell_type": "markdown",
   "id": "86f8575f-99cf-4bde-a0a1-a8875864fe33",
   "metadata": {},
   "source": [
    "Multi dimensional list is entered as list of lists"
   ]
  },
  {
   "cell_type": "code",
   "execution_count": 9,
   "id": "cba23e37-df3f-40b7-bb8c-57e325ec5c39",
   "metadata": {},
   "outputs": [],
   "source": [
    "l2 = [ [1,2,3], [2,3,4], [3,4,5], [4,5,6] ]"
   ]
  },
  {
   "cell_type": "code",
   "execution_count": 10,
   "id": "c93b0e3f-4488-42fd-9b63-c330ff7fc0f3",
   "metadata": {},
   "outputs": [
    {
     "data": {
      "text/plain": [
       "[[1, 2, 3], [2, 3, 4], [3, 4, 5], [4, 5, 6]]"
      ]
     },
     "execution_count": 10,
     "metadata": {},
     "output_type": "execute_result"
    }
   ],
   "source": [
    "l2"
   ]
  },
  {
   "cell_type": "markdown",
   "id": "71f15884-7125-461a-a2bd-8103ddba1292",
   "metadata": {},
   "source": [
    "And indexed similarly"
   ]
  },
  {
   "cell_type": "code",
   "execution_count": 11,
   "id": "e73b1e9a-bb54-4ef9-8def-6432916d6fbc",
   "metadata": {},
   "outputs": [
    {
     "data": {
      "text/plain": [
       "[3, 4, 5]"
      ]
     },
     "execution_count": 11,
     "metadata": {},
     "output_type": "execute_result"
    }
   ],
   "source": [
    "l2[2]"
   ]
  },
  {
   "cell_type": "code",
   "execution_count": 12,
   "id": "07145dec-dbe6-480e-aa89-75c7fae55aa7",
   "metadata": {},
   "outputs": [
    {
     "data": {
      "text/plain": [
       "[3, 4]"
      ]
     },
     "execution_count": 12,
     "metadata": {},
     "output_type": "execute_result"
    }
   ],
   "source": [
    "l2[2][0:2]"
   ]
  },
  {
   "cell_type": "markdown",
   "id": "848990f2-5cc2-46d3-aa42-7c0687871021",
   "metadata": {},
   "source": [
    "Import libraries to extend the language and help with some basic vector and table manipulation"
   ]
  },
  {
   "cell_type": "code",
   "execution_count": 13,
   "id": "58636297-f7f5-4aca-9efe-d148090b23a5",
   "metadata": {},
   "outputs": [],
   "source": [
    "import numpy as np\n",
    "import pandas as pd\n",
    "from datetime import datetime"
   ]
  },
  {
   "cell_type": "markdown",
   "id": "95f9c585-6272-4864-83d3-6b379f0a0969",
   "metadata": {},
   "source": [
    "convert the list to an array, then do some basic array manipulation"
   ]
  },
  {
   "cell_type": "code",
   "execution_count": 14,
   "id": "15133dd2-2c8c-4baa-a11e-b53295a25298",
   "metadata": {},
   "outputs": [
    {
     "data": {
      "text/plain": [
       "array([1, 2, 3, 4, 5, 6, 7])"
      ]
     },
     "execution_count": 14,
     "metadata": {},
     "output_type": "execute_result"
    }
   ],
   "source": [
    "a = np.array(l1)\n",
    "a"
   ]
  },
  {
   "cell_type": "code",
   "execution_count": 15,
   "id": "305ffc86-00a3-41ae-8fd5-94d109fd07d7",
   "metadata": {},
   "outputs": [
    {
     "data": {
      "text/plain": [
       "array([2, 3, 4, 5, 6, 7, 8])"
      ]
     },
     "execution_count": 15,
     "metadata": {},
     "output_type": "execute_result"
    }
   ],
   "source": [
    "a+1"
   ]
  },
  {
   "cell_type": "code",
   "execution_count": 16,
   "id": "57b76c1a-bd88-4bda-83f5-b5b74f20b8d1",
   "metadata": {},
   "outputs": [
    {
     "data": {
      "text/plain": [
       "array([0.5, 1. , 1.5, 2. , 2.5, 3. , 3.5])"
      ]
     },
     "execution_count": 16,
     "metadata": {},
     "output_type": "execute_result"
    }
   ],
   "source": [
    "a/2"
   ]
  },
  {
   "cell_type": "code",
   "execution_count": 17,
   "id": "f77a9347-a5b5-4ded-9557-3ee1dccd1a42",
   "metadata": {},
   "outputs": [
    {
     "data": {
      "text/plain": [
       "28"
      ]
     },
     "execution_count": 17,
     "metadata": {},
     "output_type": "execute_result"
    }
   ],
   "source": [
    "a.sum()"
   ]
  },
  {
   "cell_type": "code",
   "execution_count": 18,
   "id": "95d9438d-9482-40ff-a6bb-c81cc1e16e21",
   "metadata": {},
   "outputs": [],
   "source": [
    "b = a/2"
   ]
  },
  {
   "cell_type": "code",
   "execution_count": 19,
   "id": "3a808f34-7048-4fa0-8a21-b44c5bebd80a",
   "metadata": {},
   "outputs": [
    {
     "data": {
      "text/plain": [
       "array([ 1.5,  3. ,  4.5,  6. ,  7.5,  9. , 10.5])"
      ]
     },
     "execution_count": 19,
     "metadata": {},
     "output_type": "execute_result"
    }
   ],
   "source": [
    "a+b"
   ]
  },
  {
   "cell_type": "markdown",
   "id": "297729b3-d256-4298-ac46-5eaacd02b13b",
   "metadata": {},
   "source": [
    "numpy is optimised to process aray data *very* quickly"
   ]
  },
  {
   "cell_type": "markdown",
   "id": "a9886133-5567-4dcd-8a24-c9ee02f3e1fa",
   "metadata": {},
   "source": [
    "Generate two large random arrays"
   ]
  },
  {
   "cell_type": "code",
   "execution_count": 20,
   "id": "25de0296-b00d-40aa-a60c-45bb7c6aa23f",
   "metadata": {},
   "outputs": [],
   "source": [
    "big1 = np.random.randn(2000000)\n",
    "big2 = np.random.randn(2000000)"
   ]
  },
  {
   "cell_type": "code",
   "execution_count": 21,
   "id": "a1f5843f-eed3-4c3a-a4ba-268a76a28591",
   "metadata": {},
   "outputs": [
    {
     "data": {
      "text/plain": [
       "2000000"
      ]
     },
     "execution_count": 21,
     "metadata": {},
     "output_type": "execute_result"
    }
   ],
   "source": [
    "len(big1)"
   ]
  },
  {
   "cell_type": "code",
   "execution_count": 22,
   "id": "22eb23d1-67b9-4c8f-87ae-b796f05b68bd",
   "metadata": {},
   "outputs": [
    {
     "data": {
      "text/plain": [
       "array([ 0.34372319, -1.13321849,  0.79811629, ..., -0.9066665 ,\n",
       "        0.12669543, -0.41521569])"
      ]
     },
     "execution_count": 22,
     "metadata": {},
     "output_type": "execute_result"
    }
   ],
   "source": [
    "big1"
   ]
  },
  {
   "cell_type": "markdown",
   "id": "91ce7503-bdc8-4e1f-9a47-4ec81c9621c8",
   "metadata": {},
   "source": [
    "Now lets use a simple loop to get the dot product of these arrays"
   ]
  },
  {
   "cell_type": "code",
   "execution_count": 23,
   "id": "a8d035e8-550a-404f-9995-19f4c196b745",
   "metadata": {},
   "outputs": [
    {
     "name": "stdout",
     "output_type": "stream",
     "text": [
      "-1705.3161554593648\n",
      "0:00:01.235643\n"
     ]
    }
   ],
   "source": [
    "startedat = datetime.now()\n",
    "total = 0\n",
    "for i in range(len(big1)):\n",
    "    total = total + big1[i] * big2[i]\n",
    "print(total)\n",
    "print(datetime.now() - startedat)"
   ]
  },
  {
   "cell_type": "markdown",
   "id": "15c749f6-66b4-49fe-b305-61ac69e9dba7",
   "metadata": {},
   "source": [
    "same calculation can be done in one line, and is quicker"
   ]
  },
  {
   "cell_type": "code",
   "execution_count": 24,
   "id": "365b2444-cb12-4844-9502-6d5a12185508",
   "metadata": {},
   "outputs": [
    {
     "name": "stdout",
     "output_type": "stream",
     "text": [
      "-1705.3161554593967\n",
      "0:00:00.003968\n"
     ]
    }
   ],
   "source": [
    "startedat = datetime.now()\n",
    "total = np.dot(big1, big2)\n",
    "print(total)\n",
    "print(datetime.now() - startedat)"
   ]
  },
  {
   "cell_type": "markdown",
   "id": "4c02efae-179d-49cc-b61e-519e0ab03eb3",
   "metadata": {},
   "source": [
    "Now convert it to a dataframe"
   ]
  },
  {
   "cell_type": "code",
   "execution_count": 34,
   "id": "37642c2c-2ad7-4f2e-8db5-eac61c594650",
   "metadata": {},
   "outputs": [
    {
     "data": {
      "text/html": [
       "<div>\n",
       "<style scoped>\n",
       "    .dataframe tbody tr th:only-of-type {\n",
       "        vertical-align: middle;\n",
       "    }\n",
       "\n",
       "    .dataframe tbody tr th {\n",
       "        vertical-align: top;\n",
       "    }\n",
       "\n",
       "    .dataframe thead th {\n",
       "        text-align: right;\n",
       "    }\n",
       "</style>\n",
       "<table border=\"1\" class=\"dataframe\">\n",
       "  <thead>\n",
       "    <tr style=\"text-align: right;\">\n",
       "      <th></th>\n",
       "      <th>List1</th>\n",
       "      <th>List2</th>\n",
       "    </tr>\n",
       "  </thead>\n",
       "  <tbody>\n",
       "    <tr>\n",
       "      <th>0</th>\n",
       "      <td>0.343723</td>\n",
       "      <td>-0.874714</td>\n",
       "    </tr>\n",
       "    <tr>\n",
       "      <th>1</th>\n",
       "      <td>-1.133218</td>\n",
       "      <td>-0.341259</td>\n",
       "    </tr>\n",
       "    <tr>\n",
       "      <th>2</th>\n",
       "      <td>0.798116</td>\n",
       "      <td>0.469656</td>\n",
       "    </tr>\n",
       "    <tr>\n",
       "      <th>3</th>\n",
       "      <td>1.468519</td>\n",
       "      <td>1.232541</td>\n",
       "    </tr>\n",
       "    <tr>\n",
       "      <th>4</th>\n",
       "      <td>-1.540071</td>\n",
       "      <td>0.248459</td>\n",
       "    </tr>\n",
       "    <tr>\n",
       "      <th>...</th>\n",
       "      <td>...</td>\n",
       "      <td>...</td>\n",
       "    </tr>\n",
       "    <tr>\n",
       "      <th>1999995</th>\n",
       "      <td>-0.932696</td>\n",
       "      <td>0.470136</td>\n",
       "    </tr>\n",
       "    <tr>\n",
       "      <th>1999996</th>\n",
       "      <td>0.045753</td>\n",
       "      <td>0.844823</td>\n",
       "    </tr>\n",
       "    <tr>\n",
       "      <th>1999997</th>\n",
       "      <td>-0.906667</td>\n",
       "      <td>-1.956883</td>\n",
       "    </tr>\n",
       "    <tr>\n",
       "      <th>1999998</th>\n",
       "      <td>0.126695</td>\n",
       "      <td>0.018887</td>\n",
       "    </tr>\n",
       "    <tr>\n",
       "      <th>1999999</th>\n",
       "      <td>-0.415216</td>\n",
       "      <td>0.575459</td>\n",
       "    </tr>\n",
       "  </tbody>\n",
       "</table>\n",
       "<p>2000000 rows × 2 columns</p>\n",
       "</div>"
      ],
      "text/plain": [
       "            List1     List2\n",
       "0        0.343723 -0.874714\n",
       "1       -1.133218 -0.341259\n",
       "2        0.798116  0.469656\n",
       "3        1.468519  1.232541\n",
       "4       -1.540071  0.248459\n",
       "...           ...       ...\n",
       "1999995 -0.932696  0.470136\n",
       "1999996  0.045753  0.844823\n",
       "1999997 -0.906667 -1.956883\n",
       "1999998  0.126695  0.018887\n",
       "1999999 -0.415216  0.575459\n",
       "\n",
       "[2000000 rows x 2 columns]"
      ]
     },
     "execution_count": 34,
     "metadata": {},
     "output_type": "execute_result"
    }
   ],
   "source": [
    "df = pd.DataFrame(data=np.stack((big1,big2),axis=1), columns=(['List1','List2']))\n",
    "df"
   ]
  },
  {
   "cell_type": "markdown",
   "id": "81ff5ecd-45ac-4fb3-8d37-0eb9574eba0c",
   "metadata": {},
   "source": [
    "Query the dataframe"
   ]
  },
  {
   "cell_type": "code",
   "execution_count": 40,
   "id": "35e93ad5-edce-4e7e-bf20-beccf3967deb",
   "metadata": {},
   "outputs": [
    {
     "data": {
      "text/html": [
       "<div>\n",
       "<style scoped>\n",
       "    .dataframe tbody tr th:only-of-type {\n",
       "        vertical-align: middle;\n",
       "    }\n",
       "\n",
       "    .dataframe tbody tr th {\n",
       "        vertical-align: top;\n",
       "    }\n",
       "\n",
       "    .dataframe thead th {\n",
       "        text-align: right;\n",
       "    }\n",
       "</style>\n",
       "<table border=\"1\" class=\"dataframe\">\n",
       "  <thead>\n",
       "    <tr style=\"text-align: right;\">\n",
       "      <th></th>\n",
       "      <th>List1</th>\n",
       "      <th>List2</th>\n",
       "    </tr>\n",
       "  </thead>\n",
       "  <tbody>\n",
       "    <tr>\n",
       "      <th>266</th>\n",
       "      <td>3.580790</td>\n",
       "      <td>-1.479955</td>\n",
       "    </tr>\n",
       "    <tr>\n",
       "      <th>10220</th>\n",
       "      <td>3.647644</td>\n",
       "      <td>0.340492</td>\n",
       "    </tr>\n",
       "    <tr>\n",
       "      <th>18381</th>\n",
       "      <td>3.531267</td>\n",
       "      <td>-0.153776</td>\n",
       "    </tr>\n",
       "    <tr>\n",
       "      <th>23577</th>\n",
       "      <td>3.502322</td>\n",
       "      <td>0.040546</td>\n",
       "    </tr>\n",
       "    <tr>\n",
       "      <th>25723</th>\n",
       "      <td>3.832471</td>\n",
       "      <td>0.527205</td>\n",
       "    </tr>\n",
       "    <tr>\n",
       "      <th>...</th>\n",
       "      <td>...</td>\n",
       "      <td>...</td>\n",
       "    </tr>\n",
       "    <tr>\n",
       "      <th>1981642</th>\n",
       "      <td>4.257557</td>\n",
       "      <td>-0.110050</td>\n",
       "    </tr>\n",
       "    <tr>\n",
       "      <th>1981848</th>\n",
       "      <td>3.803146</td>\n",
       "      <td>-0.164788</td>\n",
       "    </tr>\n",
       "    <tr>\n",
       "      <th>1982134</th>\n",
       "      <td>3.606763</td>\n",
       "      <td>1.126351</td>\n",
       "    </tr>\n",
       "    <tr>\n",
       "      <th>1984566</th>\n",
       "      <td>3.623961</td>\n",
       "      <td>0.200475</td>\n",
       "    </tr>\n",
       "    <tr>\n",
       "      <th>1993916</th>\n",
       "      <td>3.949519</td>\n",
       "      <td>1.486354</td>\n",
       "    </tr>\n",
       "  </tbody>\n",
       "</table>\n",
       "<p>486 rows × 2 columns</p>\n",
       "</div>"
      ],
      "text/plain": [
       "            List1     List2\n",
       "266      3.580790 -1.479955\n",
       "10220    3.647644  0.340492\n",
       "18381    3.531267 -0.153776\n",
       "23577    3.502322  0.040546\n",
       "25723    3.832471  0.527205\n",
       "...           ...       ...\n",
       "1981642  4.257557 -0.110050\n",
       "1981848  3.803146 -0.164788\n",
       "1982134  3.606763  1.126351\n",
       "1984566  3.623961  0.200475\n",
       "1993916  3.949519  1.486354\n",
       "\n",
       "[486 rows x 2 columns]"
      ]
     },
     "execution_count": 40,
     "metadata": {},
     "output_type": "execute_result"
    }
   ],
   "source": [
    "df[df['List1']>3.5]"
   ]
  },
  {
   "cell_type": "markdown",
   "id": "0c0ecb09-ae01-4b71-8147-674657f0dd7f",
   "metadata": {},
   "source": [
    "generate matrices and manipulate them"
   ]
  },
  {
   "cell_type": "code",
   "execution_count": 96,
   "id": "2117a470-8f9b-4fef-9a4d-62a423fc8e0f",
   "metadata": {},
   "outputs": [],
   "source": [
    "mat1 = np.array([[1,2,3],[2,3,4]])\n",
    "mat2 = np.array([[1,2],[2,3],[3,4]])"
   ]
  },
  {
   "cell_type": "code",
   "execution_count": 97,
   "id": "1b27783d-270a-40b9-ac37-039263af9401",
   "metadata": {},
   "outputs": [
    {
     "name": "stdout",
     "output_type": "stream",
     "text": [
      "(2, 3)\n",
      "(3, 2)\n"
     ]
    }
   ],
   "source": [
    "print(mat1.shape)\n",
    "print(mat2.shape)"
   ]
  },
  {
   "cell_type": "code",
   "execution_count": 98,
   "id": "66f509c1-0e53-4387-9146-92538ab6ea39",
   "metadata": {},
   "outputs": [
    {
     "data": {
      "text/plain": [
       "array([[1, 2, 3],\n",
       "       [2, 3, 4]])"
      ]
     },
     "execution_count": 98,
     "metadata": {},
     "output_type": "execute_result"
    }
   ],
   "source": [
    "mat1"
   ]
  },
  {
   "cell_type": "code",
   "execution_count": 99,
   "id": "a8d58ced-f311-46cb-85fa-02b61c666ecf",
   "metadata": {},
   "outputs": [
    {
     "data": {
      "text/plain": [
       "array([[1, 2],\n",
       "       [2, 3],\n",
       "       [3, 4]])"
      ]
     },
     "execution_count": 99,
     "metadata": {},
     "output_type": "execute_result"
    }
   ],
   "source": [
    "mat2"
   ]
  },
  {
   "cell_type": "code",
   "execution_count": 100,
   "id": "211b87f6-76fb-457d-a94e-d7e00bcd27db",
   "metadata": {},
   "outputs": [
    {
     "data": {
      "text/plain": [
       "array([[14, 20],\n",
       "       [20, 29]])"
      ]
     },
     "execution_count": 100,
     "metadata": {},
     "output_type": "execute_result"
    }
   ],
   "source": [
    "np.dot(mat1, mat2)"
   ]
  },
  {
   "cell_type": "code",
   "execution_count": 101,
   "id": "510f37ce-9818-4bfb-82ab-b269865d6be1",
   "metadata": {},
   "outputs": [
    {
     "data": {
      "text/plain": [
       "array([[14, 20],\n",
       "       [20, 29]])"
      ]
     },
     "execution_count": 101,
     "metadata": {},
     "output_type": "execute_result"
    }
   ],
   "source": [
    "mat1 @ mat2"
   ]
  },
  {
   "cell_type": "code",
   "execution_count": null,
   "id": "10a1598c-dc39-49bc-be96-491d709c753b",
   "metadata": {},
   "outputs": [],
   "source": []
  }
 ],
 "metadata": {
  "kernelspec": {
   "display_name": "Python 3 (ipykernel)",
   "language": "python",
   "name": "python3"
  },
  "language_info": {
   "codemirror_mode": {
    "name": "ipython",
    "version": 3
   },
   "file_extension": ".py",
   "mimetype": "text/x-python",
   "name": "python",
   "nbconvert_exporter": "python",
   "pygments_lexer": "ipython3",
   "version": "3.8.10"
  }
 },
 "nbformat": 4,
 "nbformat_minor": 5
}
